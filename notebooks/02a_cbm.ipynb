{
  "cells": [
    {
      "cell_type": "markdown",
      "id": "cd33fb31",
      "metadata": {
        "id": "cd33fb31"
      },
      "source": [
        "# 🧠 Concept Bottleneck Models (CBM)\n",
        "**Hands-On Tutorial Notebook – ECML PKDD 2025 ‘An Overview to Concept-based Explainable AI’**  \n",
        "\n",
        "*Based on* : Koh, Pang Wei, *et al.*  [Concept Bottleneck Models](https://proceedings.mlr.press/v119/koh20a/koh20a.pdf), ICML 2020.\n",
        "\n",
        "*Official repo*: https://github.com/yewsiang/ConceptBottleneck  \n",
        "\n",
        "<a target=\"_blank\" href=\"https://colab.research.google.com/github/cxai-mechint-htutorial-kdd2025/cxai-mechint-htutorial-kdd2025.github.io/blob/main/notebooks/02a_cbm.ipynb\">\n",
        "  <img src=\"https://colab.research.google.com/assets/colab-badge.svg\" alt=\"Open In Colab\"/>\n",
        "</a>\n",
        "\n",
        "---\n",
        "\n",
        "### 🌟 **What you will learn**\n",
        "1. Train and evaluate a **Concept Bottleneck Model** using intermediate concepts.\n",
        "2. Inspect **concept-based explanations** and control predictions via concept **intervention**.\n",
        "\n",
        "**Estimated runtime** (Colab, cpu): ≈ 10 min"
      ]
    },
    {
      "cell_type": "markdown",
      "id": "xp4AWDbtbj4u",
      "metadata": {
        "id": "xp4AWDbtbj4u"
      },
      "source": [
        "## 🗺️ Notebook RoadMap\n",
        "1. ⚙️ **Environment Setup**\n",
        "2. 🧹 **Prepare the Dataset**\n",
        "3. 🏗️ **Build the Concept Bottleneck Model**\n",
        "4. 🧮 **Setup Training Components**\n",
        "5. 🧪 **Train and Evaluate the Model**\n",
        "6. 📊 **Visualize Predictions**\n",
        "7. 👩🏻‍🔬 **Concept Intervention**"
      ]
    },
    {
      "cell_type": "markdown",
      "id": "17fbf2e6",
      "metadata": {
        "id": "17fbf2e6"
      },
      "source": [
        "![CBM pipeline](https://raw.githubusercontent.com/cxai-mechint-htutorial-kdd2025/cxai-mechint-htutorial-kdd2025.github.io/refs/heads/main/img_notebooks/cbm.png)"
      ]
    },
    {
      "cell_type": "markdown",
      "id": "c4ZCRBtNzWQ1",
      "metadata": {
        "id": "c4ZCRBtNzWQ1"
      },
      "source": [
        "# 1. ⚙️ Environment Setup"
      ]
    },
    {
      "cell_type": "markdown",
      "id": "syePTNRCzakg",
      "metadata": {
        "id": "syePTNRCzakg"
      },
      "source": [
        "👉🏻 Run the cell below on Colab to install the requirements."
      ]
    },
    {
      "cell_type": "code",
      "execution_count": 1,
      "id": "initial_id",
      "metadata": {
        "ExecuteTime": {
          "end_time": "2024-05-02T13:31:55.254829Z",
          "start_time": "2024-05-02T13:31:47.940706Z"
        },
        "collapsed": true,
        "id": "initial_id"
      },
      "outputs": [],
      "source": [
        "import torch\n",
        "import torch.nn as nn\n",
        "import torchvision\n",
        "import torchvision.transforms as transforms\n",
        "import matplotlib.pyplot as plt\n",
        "import torch.optim as optim\n",
        "from torch.utils.data import DataLoader\n",
        "import torch.nn.functional as F\n",
        "\n",
        "seed_value = 42\n",
        "torch.manual_seed(seed_value)\n",
        "torch.cuda.manual_seed(seed_value)\n",
        "\n",
        "import random\n",
        "random.seed(seed_value)"
      ]
    },
    {
      "cell_type": "markdown",
      "id": "E4yMkKLozwEg",
      "metadata": {
        "id": "E4yMkKLozwEg"
      },
      "source": [
        "# 2. 🧹 Prepare the Dataset"
      ]
    },
    {
      "cell_type": "markdown",
      "id": "jQ3xMAo20rQE",
      "metadata": {
        "id": "jQ3xMAo20rQE"
      },
      "source": [
        "To train a Concept Bottleneck Model, we need a dataset that includes:\n",
        "\n",
        "- **Input images**\n",
        "\n",
        "- **Concept labels** (interpretable features like the digit class)\n",
        "\n",
        "- **Task labels** (the final prediction target, like even/odd)\n",
        "\n",
        "In this step, you’ll create a custom subclass of the standard MNIST dataset to annotate each image with both:\n",
        "\n",
        "- Its **digit** -> used as a **concept**\n",
        "\n",
        "- Whether the digit is **even or odd** -> used as the **task label**"
      ]
    },
    {
      "cell_type": "markdown",
      "id": "jWmR2Qdp1Ckd",
      "metadata": {
        "id": "jWmR2Qdp1Ckd"
      },
      "source": [
        "🔧 Custom Dataset Class: `MNISTEvenOdd`\n",
        "\n",
        "The `MNISTEvenOdd` class:\n",
        "\n",
        "- Inherits from `torchvision.datasets.MNIST`.\n",
        "\n",
        "- Applies standard normalization and expands grayscale images to 3 channels to be compatible with models like ResNet.\n",
        "\n",
        "- Reduces the dataset size to 10,000 samples for quicker experimentation.\n",
        "\n",
        "- Returns a tuple of:\n",
        "\n",
        "  - `img`: the input image\n",
        "\n",
        "  - `concept`: the digit label (0–9)\n",
        "\n",
        "  - `task`: binary label (0 for even, 1 for odd)"
      ]
    },
    {
      "cell_type": "code",
      "execution_count": 2,
      "id": "9ea1df97484cd6d2",
      "metadata": {
        "ExecuteTime": {
          "end_time": "2024-05-02T13:44:30.139803Z",
          "start_time": "2024-05-02T13:44:30.006338Z"
        },
        "colab": {
          "base_uri": "https://localhost:8080/",
          "height": 537
        },
        "id": "9ea1df97484cd6d2",
        "outputId": "5da9f343-10e9-4244-bdb3-0ac5f4bebdf1"
      },
      "outputs": [
        {
          "output_type": "stream",
          "name": "stderr",
          "text": [
            "100%|██████████| 9.91M/9.91M [00:00<00:00, 34.8MB/s]\n",
            "100%|██████████| 28.9k/28.9k [00:00<00:00, 1.01MB/s]\n",
            "100%|██████████| 1.65M/1.65M [00:00<00:00, 2.49MB/s]\n",
            "100%|██████████| 4.54k/4.54k [00:00<00:00, 12.1MB/s]\n",
            "WARNING:matplotlib.image:Clipping input data to the valid range for imshow with RGB data ([0..1] for floats or [0..255] for integers). Got range [-0.42421296..2.8214867].\n"
          ]
        },
        {
          "output_type": "display_data",
          "data": {
            "text/plain": [
              "<Figure size 640x480 with 1 Axes>"
            ],
            "image/png": "[encoded data removed]"
          },
          "metadata": {}
        }
      ],
      "source": [
        "class MNISTEvenOdd(torchvision.datasets.MNIST):\n",
        "    def __init__(self, root, train=True, download=True):\n",
        "        # Define the transformation pipeline\n",
        "        transform = transforms.Compose([\n",
        "            transforms.ToTensor(),\n",
        "            transforms.Normalize((0.1307,), (0.3081,)),             # Normalize using MNIST stats\n",
        "            transforms.Lambda(lambda x: x.repeat(3, 1, 1))          # Convert 1-channel to 3-channel\n",
        "        ])\n",
        "\n",
        "        # Initialize base MNIST class with custom transforms\n",
        "        super().__init__(root=root, train=train, transform=transform, download=download)\n",
        "\n",
        "        # ⚠️ Subsample for quick experimentation (10,000 examples)\n",
        "        self.data = self.data[:10_000]\n",
        "        self.targets = self.targets[:10_000]\n",
        "\n",
        "    def __getitem__(self, index):\n",
        "        # Get base image and label\n",
        "        img, label = super().__getitem__(index)\n",
        "\n",
        "        # Define the digit as concept label\n",
        "        concept = label\n",
        "\n",
        "        # Define the even/odd binary label as task\n",
        "        task = label % 2\n",
        "\n",
        "        return img, concept, task\n",
        "\n",
        "# 🗃️ Instantiate Datasets\n",
        "train_dataset = MNISTEvenOdd(root='.', train=True)\n",
        "test_dataset = MNISTEvenOdd(root='.', train=False)\n",
        "\n",
        "# 🔍 Visualize a Sample\n",
        "image, concept, task = train_dataset[100]\n",
        "\n",
        "plt.imshow(image.permute(1, 2, 0).squeeze().numpy(), cmap='gray')\n",
        "plt.title(f\"Digit: {concept}, Even/Odd: {'Odd' if task == 1 else 'Even'}\")\n",
        "plt.axis('off')\n",
        "plt.show()"
      ]
    },
    {
      "cell_type": "markdown",
      "id": "iT3sUaIW2Cx7",
      "metadata": {
        "id": "iT3sUaIW2Cx7"
      },
      "source": [
        "# 3. 🏗️ Build the Concept Bottleneck Model"
      ]
    },
    {
      "cell_type": "markdown",
      "id": "OspaKkDF5v_L",
      "metadata": {
        "id": "OspaKkDF5v_L"
      },
      "source": [
        "In this step, you will build a **Concept Bottleneck Model (CBM)** composed of three main components:\n",
        "\n",
        "1. A shared **feature extractor** based on a pretrained ResNet18 (minus its final classifier).\n",
        "\n",
        "2. A **concept classifier** that predicts the digit class (0–9) from the extracted features.\n",
        "\n",
        "3. A **task classifier** that predicts whether the digit is even or odd, using only the predicted concept logits as input.\n",
        "\n",
        "This architecture enforces an **interpretable bottleneck**: the even/odd decision must be made based on intermediate concept activations (i.e., the digit identity), which allows for **editable, explainable decision-making**."
      ]
    },
    {
      "cell_type": "code",
      "execution_count": 3,
      "id": "33ffa63594fc6ba2",
      "metadata": {
        "ExecuteTime": {
          "end_time": "2024-05-02T13:34:48.112606Z",
          "start_time": "2024-05-02T13:34:47.959141Z"
        },
        "colab": {
          "base_uri": "https://localhost:8080/"
        },
        "id": "33ffa63594fc6ba2",
        "outputId": "3c971ac1-0b39-4b31-a6cd-1a5b0e5e9ffc"
      },
      "outputs": [
        {
          "output_type": "stream",
          "name": "stderr",
          "text": [
            "/usr/local/lib/python3.12/dist-packages/torchvision/models/_utils.py:208: UserWarning: The parameter 'pretrained' is deprecated since 0.13 and may be removed in the future, please use 'weights' instead.\n",
            "  warnings.warn(\n",
            "/usr/local/lib/python3.12/dist-packages/torchvision/models/_utils.py:223: UserWarning: Arguments other than a weight enum or `None` for 'weights' are deprecated since 0.13 and may be removed in the future. The current behavior is equivalent to passing `weights=None`.\n",
            "  warnings.warn(msg)\n"
          ]
        },
        {
          "output_type": "stream",
          "name": "stdout",
          "text": [
            "Digit prediction logits: torch.Size([1, 10]) [[-0.06  0.03 -0.01 -0.15 -0.06 -0.25  0.15 -0.09  0.03  0.09]]\n",
            "Even/Odd prediction logits: torch.Size([1, 2]) [[-0.1   0.01]]\n"
          ]
        }
      ],
      "source": [
        "class CBM(nn.Module):\n",
        "    def __init__(self, num_concepts=10, num_classes=2):\n",
        "        super().__init__()\n",
        "\n",
        "        # 🎯 Feature extractor: ResNet18 (remove final classifier)\n",
        "        self.backbone = torchvision.models.resnet18(pretrained=False)\n",
        "        num_features = self.backbone.fc.in_features\n",
        "        self.backbone.fc = nn.Identity()\n",
        "\n",
        "        # 🔢 Concept classifier (predict digit class)\n",
        "        self.concept_classifier = nn.Sequential(\n",
        "            nn.Linear(num_features, 64),\n",
        "            nn.ReLU(),\n",
        "            nn.Linear(64, num_concepts),\n",
        "        )\n",
        "\n",
        "        # Final predictor: maps concepts to final output classes\n",
        "        self.task_classifier = nn.Sequential(\n",
        "            nn.Linear(num_concepts, 32),\n",
        "            nn.ReLU(),\n",
        "            nn.Linear(32, num_classes)\n",
        "        )\n",
        "\n",
        "\n",
        "    def forward(self, x):\n",
        "        features = self.backbone(x)                      # Extract deep features\n",
        "        concepts = self.concept_classifier(features)     # Predict digit class (concepts)\n",
        "        task_logits = self.task_classifier(concepts)     # Predict even/odd from concepts\n",
        "        return concepts, task_logits\n",
        "\n",
        "# 🧪 Instantiate the model and evaluate on a sample image\n",
        "model = CBM()\n",
        "model.eval()\n",
        "\n",
        "# Run a forward pass on one image\n",
        "digit_logits, even_odd_logits = model(image.unsqueeze(0))\n",
        "\n",
        "# Display the shape and logits\n",
        "print(\"Digit prediction logits:\", digit_logits.shape, digit_logits.detach().numpy().round(2))\n",
        "print(\"Even/Odd prediction logits:\", even_odd_logits.shape, even_odd_logits.detach().numpy().round(2))"
      ]
    },
    {
      "cell_type": "markdown",
      "id": "o5D7oxTf61fJ",
      "metadata": {
        "id": "o5D7oxTf61fJ"
      },
      "source": [
        "# 4. 🧮 Setup Training Components"
      ]
    },
    {
      "cell_type": "markdown",
      "id": "AFmuDfrZ7NHH",
      "metadata": {
        "id": "AFmuDfrZ7NHH"
      },
      "source": [
        "Now that you have defined your Concept Bottleneck Model (CBM), it's time to prepare the training setup. This includes:\n",
        "\n",
        "1. **Dataloaders** for batching and shuffling the dataset.\n",
        "\n",
        "2. A **loss function** to optimize both concept and task predictions. We'll use the `CrossEntropyLoss` for digit classification for the concepts  and for even/odd prediction (binary) for the taks.\n",
        "\n",
        "3. An **optimizer** to update the model weights. `Adam` is used for its efficiency and adaptive learning rate.\n",
        "\n",
        "4. Selecting the appropriate **device** (GPU if available)."
      ]
    },
    {
      "cell_type": "code",
      "execution_count": 4,
      "id": "6e9df665e24fb22",
      "metadata": {
        "ExecuteTime": {
          "end_time": "2024-05-02T13:35:02.290562Z",
          "start_time": "2024-05-02T13:35:02.272329Z"
        },
        "colab": {
          "base_uri": "https://localhost:8080/"
        },
        "id": "6e9df665e24fb22",
        "outputId": "a8ae9399-eba2-4f66-af1a-c828ad1ee73d"
      },
      "outputs": [
        {
          "output_type": "stream",
          "name": "stdout",
          "text": [
            "✅ Model is ready for training on: cpu\n"
          ]
        }
      ],
      "source": [
        "# 🔧 Hyperparameters\n",
        "batch_size = 128\n",
        "num_epochs = 2\n",
        "learning_rate = 0.001\n",
        "\n",
        "# 🧪 Data Loaders\n",
        "train_loader = DataLoader(train_dataset, batch_size=batch_size, shuffle=True)\n",
        "test_loader = DataLoader(test_dataset, batch_size=batch_size, shuffle=False)\n",
        "\n",
        "# 🎯 Loss Function\n",
        "criterion = nn.CrossEntropyLoss()\n",
        "\n",
        "# 🚀 Optimizer\n",
        "optimizer = optim.Adam(model.parameters(), lr=learning_rate)\n",
        "\n",
        "# 🖥️ Device Configuration\n",
        "device = torch.device(\"cuda\" if torch.cuda.is_available() else \"cpu\")\n",
        "model.to(device)\n",
        "\n",
        "print(f\"✅ Model is ready for training on: {device}\")"
      ]
    },
    {
      "cell_type": "markdown",
      "id": "vIR79J2J_sHf",
      "metadata": {
        "id": "vIR79J2J_sHf"
      },
      "source": [
        "# 5. 🧪 Train and Evaluate the Model"
      ]
    },
    {
      "cell_type": "markdown",
      "id": "D6SzCmh6B7SW",
      "metadata": {
        "id": "D6SzCmh6B7SW"
      },
      "source": [
        "In this step, you'll train the Concept Bottleneck Model (CBM) using two supervision:\n",
        "\n",
        "- **Concept supervision**: Predicting the digit identity (0–9)\n",
        "\n",
        "- **Task supervision**: Predicting if the digit is even or odd\n",
        "\n",
        "To encourage the model *to rely on the concepts when making task predictions*, we compute:\n",
        "\n",
        "- A **concept loss**: using the digit prediction\n",
        "\n",
        "- A **task loss**: using the even/odd prediction from the concept logits\n",
        "These are combined into a single loss with a trade-off parameter γ (gamma).\n",
        "\n",
        "Estimated time: 3 min."
      ]
    },
    {
      "cell_type": "markdown",
      "id": "8ct1gYbmCXPr",
      "metadata": {
        "id": "8ct1gYbmCXPr"
      },
      "source": [
        "\n",
        "\n",
        "🧠 **Tip**\n",
        "\n",
        "> Adjust γ (gamma) to control how much emphasis the model places on concept supervision versus task supervision:\n",
        "- A higher value → more emphasis on task performance.\n",
        "- A lower value → encourages more faithful concept learning."
      ]
    },
    {
      "cell_type": "code",
      "execution_count": 5,
      "id": "304ceb0bbefcb9c6",
      "metadata": {
        "ExecuteTime": {
          "end_time": "2024-05-02T13:35:50.228578Z",
          "start_time": "2024-05-02T13:35:36.939102Z"
        },
        "colab": {
          "base_uri": "https://localhost:8080/"
        },
        "id": "304ceb0bbefcb9c6",
        "outputId": "9d50b1ca-231e-473d-9672-690879f3b81f"
      },
      "outputs": [
        {
          "output_type": "stream",
          "name": "stdout",
          "text": [
            "Epoch [1/2] | Step [10/79] | Loss: 0.6193\n",
            "Epoch [1/2] | Step [20/79] | Loss: 0.5545\n",
            "Epoch [1/2] | Step [30/79] | Loss: 0.5338\n",
            "Epoch [1/2] | Step [40/79] | Loss: 0.5052\n",
            "Epoch [1/2] | Step [50/79] | Loss: 0.2917\n",
            "Epoch [1/2] | Step [60/79] | Loss: 0.1198\n",
            "Epoch [1/2] | Step [70/79] | Loss: 0.1671\n",
            "✅ Epoch [1/2] | Concept Accuracy: 95.09% | Task Accuracy: 97.02%\n",
            "Epoch [2/2] | Step [10/79] | Loss: 0.4317\n",
            "Epoch [2/2] | Step [20/79] | Loss: 0.1592\n",
            "Epoch [2/2] | Step [30/79] | Loss: 0.0959\n",
            "Epoch [2/2] | Step [40/79] | Loss: 0.0241\n",
            "Epoch [2/2] | Step [50/79] | Loss: 0.1639\n",
            "Epoch [2/2] | Step [60/79] | Loss: 0.0429\n",
            "Epoch [2/2] | Step [70/79] | Loss: 0.0532\n",
            "✅ Epoch [2/2] | Concept Accuracy: 95.13% | Task Accuracy: 98.38%\n"
          ]
        }
      ],
      "source": [
        "# 🔁 Training Loop\n",
        "model.to(device)\n",
        "\n",
        "for epoch in range(num_epochs):\n",
        "    model.train()  # Enable dropout, batchnorm, etc.\n",
        "\n",
        "    for i, (images, concepts, tasks) in enumerate(train_loader):\n",
        "        images, concepts, tasks = images.to(device), concepts.to(device), tasks.to(device)\n",
        "\n",
        "        # 🔄 Forward pass\n",
        "        concept_logits, task_logits = model(images)\n",
        "\n",
        "        # 🎯 Compute individual losses\n",
        "        loss_concept = criterion(concept_logits, concepts)\n",
        "        loss_task = criterion(task_logits, tasks)\n",
        "\n",
        "        # ⚖️ Combine losses with weighting\n",
        "        gamma = 0.7\n",
        "        loss = loss_concept + gamma * loss_task\n",
        "\n",
        "        # 🔧 Backpropagation\n",
        "        optimizer.zero_grad()\n",
        "        loss.backward()\n",
        "        optimizer.step()\n",
        "\n",
        "        # 📉 Logging\n",
        "        if (i + 1) % 10 == 0:\n",
        "            print(f\"Epoch [{epoch+1}/{num_epochs}] | Step [{i+1}/{len(train_loader)}] | Loss: {loss.item():.4f}\")\n",
        "\n",
        "    # 📈 Evaluation on test set\n",
        "    model.eval()\n",
        "    correct_concepts = 0\n",
        "    correct_tasks = 0\n",
        "\n",
        "    with torch.no_grad():\n",
        "        for images, concepts, tasks in test_loader:\n",
        "            images, concepts, tasks = images.to(device), concepts.to(device), tasks.to(device)\n",
        "\n",
        "            concept_probs, task_logits = model(images)\n",
        "\n",
        "            # 🔍 Predictions\n",
        "            predicted_concepts = torch.argmax(concept_probs, dim=1)\n",
        "            predicted_tasks = torch.argmax(task_logits, dim=1)\n",
        "\n",
        "            # ✅ Accuracy computation\n",
        "            correct_concepts += (predicted_concepts == concepts).sum().item()\n",
        "            correct_tasks += (predicted_tasks == tasks).sum().item()\n",
        "\n",
        "    # 📊 Report accuracy\n",
        "    concept_acc = correct_concepts / len(test_dataset)\n",
        "    task_acc = correct_tasks / len(test_dataset)\n",
        "\n",
        "    print(f\"✅ Epoch [{epoch+1}/{num_epochs}] | Concept Accuracy: {concept_acc:.2%} | Task Accuracy: {task_acc:.2%}\")"
      ]
    },
    {
      "cell_type": "markdown",
      "id": "PsMYYt0qDA5-",
      "metadata": {
        "id": "PsMYYt0qDA5-"
      },
      "source": [
        "# 6. 📊 Visualize Predictions"
      ]
    },
    {
      "cell_type": "markdown",
      "id": "xPzmqmymDFYG",
      "metadata": {
        "id": "xPzmqmymDFYG"
      },
      "source": [
        "To better understand how the CBM works in practice, we can visualize its predictions on unseen test images. For each sample, we’ll inspect:\n",
        "\n",
        "- The **true digit label** and whether it is **even or odd** (task label).\n",
        "\n",
        "- The **predicted digit** (concept prediction).\n",
        "\n",
        "- The **predicted even/odd** classification (task prediction).\n",
        "\n",
        "This qualitative check helps assess whether the model is accurately predicting both the interpretable **concepts** and the **final task** decision."
      ]
    },
    {
      "cell_type": "code",
      "execution_count": 6,
      "id": "k_Wy0zngDURL",
      "metadata": {
        "colab": {
          "base_uri": "https://localhost:8080/",
          "height": 452
        },
        "id": "k_Wy0zngDURL",
        "outputId": "3db28ec2-4245-47b1-a80c-7f7bae30b379"
      },
      "outputs": [
        {
          "output_type": "stream",
          "name": "stderr",
          "text": [
            "WARNING:matplotlib.image:Clipping input data to the valid range for imshow with RGB data ([0..1] for floats or [0..255] for integers). Got range [-0.42421296..2.8214867].\n",
            "WARNING:matplotlib.image:Clipping input data to the valid range for imshow with RGB data ([0..1] for floats or [0..255] for integers). Got range [-0.42421296..2.8214867].\n",
            "WARNING:matplotlib.image:Clipping input data to the valid range for imshow with RGB data ([0..1] for floats or [0..255] for integers). Got range [-0.42421296..2.8214867].\n",
            "WARNING:matplotlib.image:Clipping input data to the valid range for imshow with RGB data ([0..1] for floats or [0..255] for integers). Got range [-0.42421296..2.8214867].\n"
          ]
        },
        {
          "output_type": "display_data",
          "data": {
            "text/plain": [
              "<Figure size 2000x500 with 4 Axes>"
            ],
            "image/png": "[encoded data removed]"
          },
          "metadata": {}
        }
      ],
      "source": [
        "# 🎨 Plot a few test predictions\n",
        "fig, axes = plt.subplots(1, 4, figsize=(20, 5))\n",
        "\n",
        "model.eval()  # Ensure the model is in evaluation mode\n",
        "\n",
        "for i in range(4):\n",
        "    # Get test sample\n",
        "    image, true_digit, true_even_odd = test_dataset[i]\n",
        "    image_input = image.unsqueeze(0).to(device)\n",
        "\n",
        "    # 🔮 Forward pass\n",
        "    concept_logits, task_logits = model(image_input)\n",
        "\n",
        "    # Get predicted labels\n",
        "    predicted_digit = torch.argmax(concept_logits, dim=1).item()\n",
        "    predicted_task = torch.argmax(task_logits, dim=1).item()\n",
        "\n",
        "    # 🖼️ Show the image\n",
        "    axes[i].imshow(image.permute(1, 2, 0).squeeze().cpu().numpy(), cmap='gray')\n",
        "    axes[i].set_title(\n",
        "        f\" True Digit: {true_digit} | {'Odd' if true_even_odd else 'Even'}\\n\"\n",
        "        f\" Predicted Digit: {predicted_digit} | {'Odd' if predicted_task else 'Even'}\",\n",
        "        fontsize=12\n",
        "    )\n",
        "    axes[i].axis(\"off\")\n",
        "\n",
        "plt.tight_layout()\n",
        "plt.show()"
      ]
    },
    {
      "cell_type": "markdown",
      "id": "jdSi3oOrdtWT",
      "metadata": {
        "id": "jdSi3oOrdtWT"
      },
      "source": [
        "\n",
        "\n",
        "## 7. 👩🏻‍🔬 Concept Intervention\n",
        "\n",
        "In this step, we manually intervene on the predicted concepts to study their influence on the final task prediction (even/odd). This allows us to evaluate the **role** of concepts in the model's reasoning process."
      ]
    },
    {
      "cell_type": "markdown",
      "id": "f9309659",
      "metadata": {
        "id": "f9309659"
      },
      "source": [
        "![Concept Intervention CBM](https://github.com/cxai-mechint-htutorial-kdd2025/cxai-mechint-htutorial-kdd2025.github.io/blob/main/img_notebooks/cbm_intervention.jpg?raw=true)"
      ]
    },
    {
      "cell_type": "markdown",
      "id": "471b8a9f",
      "metadata": {
        "id": "471b8a9f"
      },
      "source": [
        "We:\n",
        "- Pick a test image. We will choose it among the ones the model wrongly predicts.\n",
        "- Force one of the concepts to a chosen value. We will choose the correct one.\n",
        "- Evaluate the task prediction before and after intervention."
      ]
    },
    {
      "cell_type": "code",
      "execution_count": 7,
      "id": "-5h0-6fHmjQd",
      "metadata": {
        "id": "-5h0-6fHmjQd"
      },
      "outputs": [],
      "source": [
        "incorrects = []\n",
        "\n",
        "for i in range(0,500):\n",
        "  image, true_digit, true_even_odd = test_dataset[i]\n",
        "  image_input = image.unsqueeze(0).to(device)\n",
        "\n",
        "  # 🔮 Forward pass\n",
        "  concept_logits, task_logits = model(image_input)\n",
        "\n",
        "  # Get predicted labels\n",
        "  predicted_digit = torch.argmax(concept_logits, dim=1).item()\n",
        "  predicted_task = torch.argmax(task_logits, dim=1).item()\n",
        "\n",
        "  if true_even_odd!=predicted_task:\n",
        "    incorrects.append(i)"
      ]
    },
    {
      "cell_type": "code",
      "execution_count": 8,
      "id": "vNEijW3utKU9",
      "metadata": {
        "colab": {
          "base_uri": "https://localhost:8080/",
          "height": 545
        },
        "id": "vNEijW3utKU9",
        "outputId": "ca044ef4-07f8-49ba-dbe5-6f617bb2dd0a"
      },
      "outputs": [
        {
          "output_type": "stream",
          "name": "stderr",
          "text": [
            "WARNING:matplotlib.image:Clipping input data to the valid range for imshow with RGB data ([0..1] for floats or [0..255] for integers). Got range [-0.42421296..2.8214867].\n"
          ]
        },
        {
          "output_type": "display_data",
          "data": {
            "text/plain": [
              "<Figure size 500x500 with 1 Axes>"
            ],
            "image/png": "[encoded data removed]"
          },
          "metadata": {}
        }
      ],
      "source": [
        "idx = incorrects[0]\n",
        "\n",
        "\n",
        "# 🎨 Plot a few test predictions\n",
        "fig, ax = plt.subplots(1, 1, figsize=(5, 5))\n",
        "\n",
        "model.eval()  # Ensure the model is in evaluation mode\n",
        "\n",
        "image, true_digit, true_even_odd = test_dataset[idx]\n",
        "image_input = image.unsqueeze(0).to(device)\n",
        "\n",
        "# 🔮 Forward pass\n",
        "concept_logits, task_logits = model(image_input)\n",
        "\n",
        "# Get predicted labels\n",
        "predicted_digit = torch.argmax(concept_logits, dim=1).item()\n",
        "predicted_task = torch.argmax(task_logits, dim=1).item()\n",
        "\n",
        "# 🖼️ Show the image\n",
        "ax.imshow(image.permute(1, 2, 0).squeeze().cpu().numpy(), cmap='gray')\n",
        "ax.set_title(\n",
        "    f\" True Digit: {true_digit} | {'Odd' if true_even_odd else 'Even'}\\n\"\n",
        "    f\" Predicted Digit: {predicted_digit} | {'Odd' if predicted_task else 'Even'}\",\n",
        "    fontsize=12\n",
        ")\n",
        "ax.axis(\"off\")\n",
        "\n",
        "plt.tight_layout()\n",
        "plt.show()"
      ]
    },
    {
      "cell_type": "code",
      "execution_count": 9,
      "id": "1vUeJuapczgM",
      "metadata": {
        "colab": {
          "base_uri": "https://localhost:8080/"
        },
        "id": "1vUeJuapczgM",
        "outputId": "7767cb21-20d5-4445-de5d-de2975c68849"
      },
      "outputs": [
        {
          "output_type": "stream",
          "name": "stdout",
          "text": [
            "🔍 Original Prediction:\n",
            " - Predicted Concept: 4\n",
            " - Task Prediction (before intervention): Even\n",
            "\n",
            "🧪 After Concept Intervention:\n",
            " - Intervention Applied: Force concept prediction to class 9\n",
            " - Task Prediction (after intervention): Odd\n"
          ]
        }
      ],
      "source": [
        "def soft_peak_vector(num_classes: int, peak_index: int, temperature: float = 0.01) -> torch.Tensor:\n",
        "    \"\"\"\n",
        "    Create a softmax vector peaked at `peak_index` with controllable temperature.\n",
        "    Lower temperature → sharper distribution.\n",
        "    \"\"\"\n",
        "    logits = torch.full((1, num_classes), fill_value=-5.0).to(device)\n",
        "    logits[0, peak_index] = 5.0\n",
        "    return logits\n",
        "\n",
        "# Select the test sample\n",
        "sample = test_dataset[idx][0].unsqueeze(0).to(device)\n",
        "_, true_digit, _ = test_dataset[idx]\n",
        "\n",
        "# Step 1: Predict concepts and task\n",
        "with torch.no_grad():\n",
        "    features = model.backbone(sample)\n",
        "    concept_logits = model.concept_classifier(features)\n",
        "    concept_logits, task_logits = model(sample)\n",
        "    predicted_digit = torch.argmax(concept_logits, dim=1).item()\n",
        "    predicted_task = torch.argmax(task_logits, dim=1).item()\n",
        "\n",
        "# Show original predictions\n",
        "print(\"🔍 Original Prediction:\")\n",
        "print(f\" - Predicted Concept: {predicted_digit}\")\n",
        "print(f\" - Task Prediction (before intervention): {'Even' if predicted_task == 0 else 'Odd'}\")\n",
        "\n",
        "# Step 2: Intervene: force concept prediction to a different class (e.g., class 2)\n",
        "intervened_concept_class = true_digit\n",
        "intervened_logits = soft_peak_vector(num_classes=10, peak_index=intervened_concept_class)\n",
        "\n",
        "# Step 3: Predict task after intervention\n",
        "with torch.no_grad():\n",
        "    task_logits_after = model.task_classifier(intervened_logits)\n",
        "    task_pred_after = torch.argmax(task_logits_after, dim=1).item()\n",
        "\n",
        "# Show intervention results\n",
        "print(\"\\n🧪 After Concept Intervention:\")\n",
        "print(f\" - Intervention Applied: Force concept prediction to class {intervened_concept_class}\")\n",
        "print(f\" - Task Prediction (after intervention): {'Even' if task_pred_after == 0 else 'Odd'}\")\n"
      ]
    }
  ],
  "metadata": {
    "colab": {
      "provenance": []
    },
    "kernelspec": {
      "display_name": "Python 3",
      "language": "python",
      "name": "python3"
    },
    "language_info": {
      "codemirror_mode": {
        "name": "ipython",
        "version": 2
      },
      "file_extension": ".py",
      "mimetype": "text/x-python",
      "name": "python",
      "nbconvert_exporter": "python",
      "pygments_lexer": "ipython2",
      "version": "2.7.6"
    }
  },
  "nbformat": 4,
  "nbformat_minor": 5
}